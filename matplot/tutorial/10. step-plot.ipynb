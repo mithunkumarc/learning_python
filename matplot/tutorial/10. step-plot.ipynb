{
 "cells": [
  {
   "cell_type": "code",
   "execution_count": 6,
   "metadata": {},
   "outputs": [],
   "source": [
    "%matplotlib inline\n",
    "import matplotlib\n",
    "import matplotlib.pyplot as plt\n",
    "import numpy as np\n",
    "from numpy import ma"
   ]
  },
  {
   "cell_type": "code",
   "execution_count": 13,
   "metadata": {},
   "outputs": [
    {
     "name": "stdout",
     "output_type": "stream",
     "text": [
      "[1.8414709848078967 1.98544972998846 1.9738476308781951 1.80849640381959\n",
      " 1.5155013718214647 -- 0.7444588979731694 0.3881421090572814\n",
      " 0.12842422758641225 0.006308996366535702 0.041075725336861435\n",
      " 0.22723551244401174 0.5353978205862417 -- 1.3115413635133768]\n"
     ]
    },
    {
     "data": {
      "image/png": "[encoded data removed]",
      "text/plain": [
       "<matplotlib.figure.Figure at 0x7f08995a3b00>"
      ]
     },
     "metadata": {
      "needs_background": "light"
     },
     "output_type": "display_data"
    }
   ],
   "source": [
    "x = np.arange(1,7, 0.4)\n",
    "y0 = np.sin(x)\n",
    "\n",
    "y = y0.copy() + 2.5\n",
    "plt.step(x, y , label= 'pre (default)')\n",
    "\n",
    "y -= 0.5\n",
    "plt.step(x, y, where = 'mid', label='mid') # where : where to start steps\n",
    "\n",
    "y -= 0.5\n",
    "plt.step(x,y, where='post', label='post')\n",
    "\n",
    "y = ma.masked_where((y0 > -0.15) & (y0 < 0.15), y - 0.5)\n",
    "print(y)# see masked values\n",
    "plt.step(x, y, label='masked (pre)')\n",
    "\n",
    "plt.legend()\n",
    "\n",
    "plt.xlim(0,7)\n",
    "plt.ylim(-0.5, 4)\n",
    "plt.show()\n",
    "\n"
   ]
  },
  {
   "cell_type": "code",
   "execution_count": null,
   "metadata": {},
   "outputs": [],
   "source": []
  }
 ],
 "metadata": {
  "kernelspec": {
   "display_name": "Python 3",
   "language": "python",
   "name": "python3"
  },
  "language_info": {
   "codemirror_mode": {
    "name": "ipython",
    "version": 3
   },
   "file_extension": ".py",
   "mimetype": "text/x-python",
   "name": "python",
   "nbconvert_exporter": "python",
   "pygments_lexer": "ipython3",
   "version": "3.6.3"
  }
 },
 "nbformat": 4,
 "nbformat_minor": 2
}
